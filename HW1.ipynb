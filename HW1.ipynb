{
 "cells": [
  {
   "cell_type": "code",
   "execution_count": 1,
   "metadata": {},
   "outputs": [
    {
     "name": "stdout",
     "output_type": "stream",
     "text": [
      "IPython console for SymPy 1.2 (Python 3.6.5-64-bit) (ground types: python)\n",
      "\n",
      "These commands were executed:\n",
      ">>> from __future__ import division\n",
      ">>> from sympy import *\n",
      ">>> x, y, z, t = symbols('x y z t')\n",
      ">>> k, m, n = symbols('k m n', integer=True)\n",
      ">>> f, g, h = symbols('f g h', cls=Function)\n",
      ">>> init_printing()\n",
      "\n",
      "Documentation can be found at http://docs.sympy.org/1.2/\n",
      "\n"
     ]
    }
   ],
   "source": [
    "import numpy as np\n",
    "import matplotlib\n",
    "import matplotlib.pyplot as plt\n",
    "%matplotlib inline\n",
    "\n",
    "from weights import *\n",
    "\n",
    "from numpy.linalg import norm\n",
    "import scipy.sparse as sp\n",
    "from scipy.sparse.linalg import spsolve\n",
    "\n",
    "import sympy as smp\n",
    "smp.init_session()\n",
    "smp.init_printing()\n",
    "from sympy.utilities.lambdify import lambdify, implemented_function\n",
    "\n",
    "from pytex import *"
   ]
  },
  {
   "cell_type": "markdown",
   "metadata": {},
   "source": [
    "# 1 Order of Accuracy"
   ]
  },
  {
   "cell_type": "code",
   "execution_count": 4,
   "metadata": {},
   "outputs": [],
   "source": [
    "hs1 = np.array([7.8125000e-03,\n",
    "        3.9062500e-03,\n",
    "        1.9531250e-03,\n",
    "        9.7656250e-04,\n",
    "        4.8828125e-04])\n",
    "\n",
    "errs1 = np.array([2.0844e-02,\n",
    "        1.1118e-02,\n",
    "        5.3455e-03,\n",
    "        2.7049e-03,\n",
    "        1.3469e-03])\n",
    "\n",
    "hs2 = np.array([7.8125000e-03,\n",
    "        3.9062500e-03,\n",
    "        1.9531250e-03,\n",
    "        9.7656250e-04,\n",
    "        4.8828125e-04,])\n",
    "\n",
    "errs2 = np.array([1.9059e-03,\n",
    "            4.3086e-04,\n",
    "            1.0318e-04,\n",
    "            2.6007e-05,\n",
    "            6.5716e-06])\n",
    "\n",
    "hs3 = np.array([1.00000000e+00,\n",
    "        5.00000000e-01,\n",
    "        2.50000000e-01,\n",
    "        1.25000000e-01,\n",
    "        6.25000000e-02,\n",
    "        3.12500000e-02,\n",
    "        1.56250000e-02,\n",
    "        7.81250000e-03,\n",
    "        3.90625000e-03])\n",
    "\n",
    "errs3 = np.array([1.3829e-02,\n",
    "        1.8805e-03,\n",
    "        1.3742e-04,\n",
    "        8.9170e-06,\n",
    "        5.6252e-07,\n",
    "        3.5239e-08,\n",
    "        2.2037e-09,\n",
    "        1.3775e-10,\n",
    "        8.6098e-12])"
   ]
  },
  {
   "cell_type": "code",
   "execution_count": 22,
   "metadata": {},
   "outputs": [
    {
     "name": "stdout",
     "output_type": "stream",
     "text": [
      "\t\\begin{center}\n",
      "\t\t\\begin{tabular}{|c|c|c|}\n",
      "\t\t\t\\hline\n",
      "\t\t\t$h$&$e(h)$&$p_\\text{approx}$\\\\ \\hline\n",
      "\t\t\t0.0078125&0.020844&-\\\\ \\hline\n",
      "\t\t\t0.0039062&0.011118&0.90673\\\\ \\hline\n",
      "\t\t\t0.0019531&0.0053455&1.0565\\\\ \\hline\n",
      "\t\t\t0.00097656&0.0027049&0.98275\\\\ \\hline\n",
      "\t\t\t0.00048828&0.0013469&1.0059\\\\ \\hline\n",
      "\t\t\\end{tabular}\n",
      "\t\\end{center}\n",
      "\t\\begin{center}\n",
      "\t\t\\begin{tabular}{|c|c|c|}\n",
      "\t\t\t\\hline\n",
      "\t\t\t$h$&$e(h)$&$p_\\text{approx}$\\\\ \\hline\n",
      "\t\t\t0.0078125&0.0019059&-\\\\ \\hline\n",
      "\t\t\t0.0039062&0.00043086&2.1452\\\\ \\hline\n",
      "\t\t\t0.0019531&0.00010318&2.0621\\\\ \\hline\n",
      "\t\t\t0.00097656&2.6007e-05&1.9882\\\\ \\hline\n",
      "\t\t\t0.00048828&6.5716e-06&1.9846\\\\ \\hline\n",
      "\t\t\\end{tabular}\n",
      "\t\\end{center}\n",
      "\t\\begin{center}\n",
      "\t\t\\begin{tabular}{|c|c|c|}\n",
      "\t\t\t\\hline\n",
      "\t\t\t$h$&$e(h)$&$p_\\text{approx}$\\\\ \\hline\n",
      "\t\t\t1&0.013829&-\\\\ \\hline\n",
      "\t\t\t0.5&0.0018805&2.8785\\\\ \\hline\n",
      "\t\t\t0.25&0.00013742&3.7745\\\\ \\hline\n",
      "\t\t\t0.125&8.917e-06&3.9459\\\\ \\hline\n",
      "\t\t\t0.0625&5.6252e-07&3.9866\\\\ \\hline\n",
      "\t\t\t0.03125&3.5239e-08&3.9967\\\\ \\hline\n",
      "\t\t\t0.015625&2.2037e-09&3.9992\\\\ \\hline\n",
      "\t\t\t0.0078125&1.3775e-10&3.9998\\\\ \\hline\n",
      "\t\t\t0.0039062&8.6098e-12&3.9999\\\\ \\hline\n",
      "\t\t\\end{tabular}\n",
      "\t\\end{center}\n"
     ]
    }
   ],
   "source": [
    "ratio1 = np.log(errs1[1:]/errs1[:-1]) / np.log(hs1[1:]/hs1[:-1])\n",
    "ratio2 = np.log(errs2[1:]/errs2[:-1]) / np.log(hs2[1:]/hs2[:-1])\n",
    "ratio3 = np.log(errs3[1:]/errs3[:-1]) / np.log(hs3[1:]/hs3[:-1])\n",
    "\n",
    "ratio1 = ['-'] + list(ratio1)\n",
    "ratio2 = ['-'] + list(ratio2)\n",
    "ratio3 = ['-'] + list(ratio3)\n",
    "\n",
    "latex_table([hs1, errs1, ratio1],['$h$', '$e(h)$', '$p_\\\\text{approx}$'])\n",
    "latex_table([hs2, errs2, ratio2],['$h$', '$e(h)$', '$p_\\\\text{approx}$'])\n",
    "latex_table([hs3, errs3, ratio3],['$h$', '$e(h)$', '$p_\\\\text{approx}$'])"
   ]
  },
  {
   "cell_type": "code",
   "execution_count": 12,
   "metadata": {},
   "outputs": [],
   "source": [
    "ratio1 = list(ratio1)"
   ]
  },
  {
   "cell_type": "code",
   "execution_count": 15,
   "metadata": {},
   "outputs": [],
   "source": [
    "ratio1 = ['-'] + ratio1"
   ]
  },
  {
   "cell_type": "code",
   "execution_count": 16,
   "metadata": {},
   "outputs": [
    {
     "data": {
      "text/plain": [
       "['-',\n",
       " 0.9067348726831275,\n",
       " 1.0565004830118152,\n",
       " 0.9827496403905894,\n",
       " 1.0059325161684725]"
      ]
     },
     "execution_count": 16,
     "metadata": {},
     "output_type": "execute_result"
    }
   ],
   "source": [
    "ratio1"
   ]
  },
  {
   "cell_type": "markdown",
   "metadata": {},
   "source": [
    "# 2 Finite-Volume Schemes"
   ]
  },
  {
   "cell_type": "code",
   "execution_count": 5,
   "metadata": {},
   "outputs": [
    {
     "data": {
      "text/plain": [
       "([], <a list of 0 Text yticklabel objects>)"
      ]
     },
     "execution_count": 5,
     "metadata": {},
     "output_type": "execute_result"
    },
    {
     "data": {
      "image/png": "[encoded data removed]",
      "text/plain": [
       "<Figure size 432x57.6 with 1 Axes>"
      ]
     },
     "metadata": {},
     "output_type": "display_data"
    }
   ],
   "source": [
    "# plot the non-equispaced points\n",
    "xs = [0, 1, 7/4, 3]\n",
    "half_xs = [(x_2+x_1)/2 for x_2, x_1 in zip(xs[1:], xs[:-1])]\n",
    "ys = [0]*len(xs)\n",
    "half_ys = [0]*len(half_xs)\n",
    "\n",
    "matplotlib.rcParams.update({'font.size': 16})\n",
    "fig = plt.figure(figsize=(6,.8))\n",
    "plt.xlim((-.5, 3.5))\n",
    "plt.ylim((-0.05, 0.05))\n",
    "\n",
    "plt.plot((-10,10), (0,0), 'k-')\n",
    "\n",
    "plt.plot(xs, ys, 'bo')\n",
    "plt.plot(half_xs, half_ys, 'ro')\n",
    "plt.yticks([])"
   ]
  },
  {
   "cell_type": "code",
   "execution_count": 6,
   "metadata": {},
   "outputs": [
    {
     "data": {
      "text/plain": [
       "array([[ 0.        ,  1.        , -0.        ],\n",
       "       [-0.60952381,  0.14285714,  0.46666667],\n",
       "       [ 1.21904762, -2.28571429,  1.06666667]])"
      ]
     },
     "execution_count": 6,
     "metadata": {},
     "output_type": "execute_result"
    }
   ],
   "source": [
    "weights(11/8, half_xs, 2)"
   ]
  },
  {
   "cell_type": "code",
   "execution_count": 7,
   "metadata": {},
   "outputs": [
    {
     "data": {
      "text/plain": [
       "array([ 1.33333333, -3.46666667,  2.13333333])"
      ]
     },
     "execution_count": 7,
     "metadata": {},
     "output_type": "execute_result"
    }
   ],
   "source": [
    "4/15 * np.array([5, -13, 8])"
   ]
  },
  {
   "cell_type": "code",
   "execution_count": null,
   "metadata": {},
   "outputs": [],
   "source": []
  },
  {
   "cell_type": "markdown",
   "metadata": {},
   "source": [
    "# 3 Compact Finite Difference Formulas"
   ]
  },
  {
   "cell_type": "code",
   "execution_count": 8,
   "metadata": {},
   "outputs": [],
   "source": [
    "####################################################################\n",
    "#\n",
    "# a and b are the end points\n",
    "# N+1 is the number of points including the endpoints\n",
    "# foo is either a function, or a list of function values\n",
    "# dfa and dfb are the first derivatives at a and b respectively\n",
    "# d2fa and d2fb are the second derivatives at a and b respectively\n",
    "# \n",
    "# returns the first and second derivatives at the points\n",
    "#\n",
    "####################################################################\n",
    "def hermite(a, b, N, foo, dfa, dfb, d2fa, d2fb):\n",
    "    xs = np.linspace(a,b,N+1)\n",
    "    if callable(foo):\n",
    "        fs = foo(xs)\n",
    "    else:\n",
    "        assert len(foo)==N+1\n",
    "        fs = foo\n",
    "    h = (b-a)/N\n",
    "    inner_N = N-1\n",
    "\n",
    "    D1 = sp.diags( [ [1]*(inner_N-1), [4]*(inner_N),[1]*(inner_N-1) ], [-1,0,1], format='csr')\n",
    "    f1 = [3/h*(-f0+f2) for f0, f2 in zip(fs[:-2], fs[2:] )]\n",
    "    f1[0] -= dfa\n",
    "    f1[-1] -= dfb\n",
    "    fd1 = np.zeros(N+1)\n",
    "    fd1[0], fd1[-1] = dfa, dfb\n",
    "    fd1[1:-1] = spsolve(D1, f1)\n",
    "\n",
    "    D2 = sp.diags( [ [1]*(inner_N-1), [10]*(inner_N),[1]*(inner_N-1) ], [-1,0,1], format='csr')\n",
    "    f2 = [ 12/(h**2) * (f0 - 2*f1 + f2) for f0, f1, f2 in zip( fs[:-2], fs[1:-1], fs[2:] )]\n",
    "    f2[0] -= d2fa\n",
    "    f2[-1] -= d2fb\n",
    "    fd2 = np.zeros(N+1)\n",
    "    fd2[0], fd2[-1] = d2fa, d2fb\n",
    "    fd2[1:-1] = spsolve(D2, f2)\n",
    "    \n",
    "    return fd1, fd2"
   ]
  },
  {
   "cell_type": "code",
   "execution_count": 9,
   "metadata": {},
   "outputs": [
    {
     "name": "stdout",
     "output_type": "stream",
     "text": [
      "1.0666666673028808e-06\n",
      "4.262545574767616e-12\n"
     ]
    }
   ],
   "source": [
    "a, b, N, deg = -1, 1, 100, 5\n",
    "\n",
    "def foo(x):\n",
    "    return x**deg\n",
    "def dfoo(x):\n",
    "    return deg * x**(deg-1)\n",
    "def d2foo(x):\n",
    "    if deg<2:\n",
    "        return 0\n",
    "    return deg*(deg-1) * x**(deg-2)\n",
    "\n",
    "\n",
    "xs = np.linspace(a,b,N+1)\n",
    "#fs = foo(xs)\n",
    "fd1, fd2 = hermite(a, b, N, foo, dfoo(a), dfoo(b), d2foo(a), d2foo(b))\n",
    "\n",
    "print(norm(fd1 - dfoo(xs)))\n",
    "print(norm(fd2 - d2foo(xs)))"
   ]
  },
  {
   "cell_type": "code",
   "execution_count": 10,
   "metadata": {},
   "outputs": [
    {
     "name": "stdout",
     "output_type": "stream",
     "text": [
      "-x**2*exp(-x) + 2*x*exp(-x)\n",
      "x**2*exp(-x) - 4*x*exp(-x) + 2*exp(-x)\n"
     ]
    }
   ],
   "source": [
    "x = smp.symbols('x')\n",
    "f = x**2 * smp.exp(-x)\n",
    "print(f.diff(x))\n",
    "print(f.diff(x).diff(x))\n",
    "\n"
   ]
  },
  {
   "cell_type": "code",
   "execution_count": 11,
   "metadata": {},
   "outputs": [
    {
     "data": {
      "text/plain": [
       "Text(0.5,1,'Orders of convergence for $f^\\\\prime$ and $f^{\\\\prime\\\\prime}$')"
      ]
     },
     "execution_count": 11,
     "metadata": {},
     "output_type": "execute_result"
    },
    {
     "data": {
      "image/png": "[encoded data removed]",
      "text/plain": [
       "<Figure size 1008x576 with 1 Axes>"
      ]
     },
     "metadata": {},
     "output_type": "display_data"
    }
   ],
   "source": [
    "a, b = 0, 1\n",
    "hs = [1/8 * 2**-i for i in range(6)]\n",
    "\n",
    "\n",
    "def foo(x):\n",
    "    return x**2 * np.exp(-x)\n",
    "def dfoo(x):\n",
    "    return -x**2*np.exp(-x) + 2*x*np.exp(-x)\n",
    "def d2foo(x):\n",
    "    return x**2*np.exp(-x) - 4*x*np.exp(-x) + 2*np.exp(-x)\n",
    "\n",
    "Ns = [int(1/h+1) for h in hs]\n",
    "d1_errors = []\n",
    "d2_errors = []\n",
    "for N in Ns:\n",
    "    fd1, fd2 = hermite(a, b, N, foo, dfoo(a), dfoo(b), d2foo(a), d2foo(b))\n",
    "    xs = np.linspace(a,b,N+1)\n",
    "    d1_errors += [norm(fd1 - dfoo(xs))]\n",
    "    d2_errors += [norm(fd2 - d2foo(xs))]\n",
    "    \n",
    "order1 = np.log(d1_errors[-1]/d1_errors[-3]) / np.log(hs[-1]/hs[-3])\n",
    "order2 = np.log(d2_errors[-1]/d2_errors[-3]) / np.log(hs[-1]/hs[-3])\n",
    "legend = ['$f^\\prime$ error ~ $\\mathcal{O}(h^{%.4f})$' % order1]\n",
    "legend += ['$f^{\\prime\\prime}$ error ~ $\\mathcal{O}(h^{%.4f})$' % order1]\n",
    "\n",
    "matplotlib.rcParams.update({'font.size': 18})\n",
    "fig = plt.figure(figsize=(14,8))\n",
    "\n",
    "plt.loglog(hs, d1_errors, 'b-o')\n",
    "plt.loglog(hs, d2_errors, 'r-o')\n",
    "plt.legend(legend)\n",
    "plt.title('Orders of convergence for $f^\\prime$ and $f^{\\prime\\prime}$')"
   ]
  },
  {
   "cell_type": "code",
   "execution_count": 34,
   "metadata": {},
   "outputs": [
    {
     "name": "stdout",
     "output_type": "stream",
     "text": [
      "\t\\begin{center}\n",
      "\t\t\\begin{tabular}{|c|c|c|c|c|}\n",
      "\t\t\t\\hline\n",
      "\t\t\t$h$&$f^\\prime$ erorr&$f^\\prime$ erorr ratio&$f^{\\prime\\prime}$ erorr&$f^{\\prime\\prime}$ erorr ratio\\\\ \\hline\n",
      "\t\t\t0.125&2.8053e-05&-&3.1002e-05&-\\\\ \\hline\n",
      "\t\t\t0.0625&3.0451e-06&3.2036&3.4432e-06&3.1706\\\\ \\hline\n",
      "\t\t\t0.03125&2.9927e-07&3.347&3.4287e-07&3.328\\\\ \\hline\n",
      "\t\t\t0.015625&2.7916e-08&3.4223&3.2209e-08&3.4121\\\\ \\hline\n",
      "\t\t\t0.0078125&2.5354e-09&3.4608&2.936e-09&3.4556\\\\ \\hline\n",
      "\t\t\t0.0039062&2.2717e-10&3.4803&2.7081e-10&3.4385\\\\ \\hline\n",
      "\t\t\\end{tabular}\n",
      "\t\\end{center}\n"
     ]
    }
   ],
   "source": [
    "orders1 = [np.log(err1/err0)/np.log(.5) for err0, err1 in zip(d1_errors[:-1], d1_errors[1:])]\n",
    "orders1 = ['-'] + orders1\n",
    "orders2 = [np.log(err1/err0)/np.log(.5) for err0, err1 in zip(d2_errors[:-1], d2_errors[1:])]\n",
    "orders2 = ['-'] + orders2\n",
    "latex_table([hs, d1_errors, orders1, d2_errors, orders2], \n",
    "            headers=['$h$', '$f^\\prime$ erorr', '$f^\\prime$ erorr ratio', '$f^{\\prime\\prime}$ erorr', '$f^{\\prime\\prime}$ erorr ratio'])"
   ]
  },
  {
   "cell_type": "code",
   "execution_count": 282,
   "metadata": {},
   "outputs": [
    {
     "data": {
      "text/latex": [
       "$$6 \\left. \\frac{d}{d x} f{\\left (x \\right )} \\right|_{\\substack{ x=0 }} + h^{2} \\left. \\frac{d^{3}}{d x^{3}} f{\\left (x \\right )} \\right|_{\\substack{ x=0 }} + \\frac{h^{4} \\left. \\frac{d^{5}}{d x^{5}} f{\\left (x \\right )} \\right|_{\\substack{ x=0 }}}{20} + O\\left(h^{5}\\right)$$"
      ],
      "text/plain": [
       "                                           ⎛  5      ⎞│           \n",
       "                                         4 ⎜ d       ⎟│           \n",
       "                                        h ⋅⎜───(f(x))⎟│           \n",
       "                      ⎛  3      ⎞│         ⎜  5      ⎟│           \n",
       "  ⎛d       ⎞│       2 ⎜ d       ⎟│         ⎝dx       ⎠│x=0    ⎛ 5⎞\n",
       "6⋅⎜──(f(x))⎟│    + h ⋅⎜───(f(x))⎟│    + ────────────────── + O⎝h ⎠\n",
       "  ⎝dx      ⎠│x=0      ⎜  3      ⎟│              20                \n",
       "                      ⎝dx       ⎠│x=0                             "
      ]
     },
     "metadata": {},
     "output_type": "display_data"
    },
    {
     "data": {
      "text/latex": [
       "$$6 \\left. \\frac{d}{d x} f{\\left (x \\right )} \\right|_{\\substack{ x=0 }} + h^{2} \\left. \\frac{d^{3}}{d x^{3}} f{\\left (x \\right )} \\right|_{\\substack{ x=0 }} + \\frac{h^{4} \\left. \\frac{d^{5}}{d x^{5}} f{\\left (x \\right )} \\right|_{\\substack{ x=0 }}}{12} + O\\left(h^{5}\\right)$$"
      ],
      "text/plain": [
       "                                           ⎛  5      ⎞│           \n",
       "                                         4 ⎜ d       ⎟│           \n",
       "                                        h ⋅⎜───(f(x))⎟│           \n",
       "                      ⎛  3      ⎞│         ⎜  5      ⎟│           \n",
       "  ⎛d       ⎞│       2 ⎜ d       ⎟│         ⎝dx       ⎠│x=0    ⎛ 5⎞\n",
       "6⋅⎜──(f(x))⎟│    + h ⋅⎜───(f(x))⎟│    + ────────────────── + O⎝h ⎠\n",
       "  ⎝dx      ⎠│x=0      ⎜  3      ⎟│              12                \n",
       "                      ⎝dx       ⎠│x=0                             "
      ]
     },
     "metadata": {},
     "output_type": "display_data"
    },
    {
     "data": {
      "text/latex": [
       "$$\\frac{h^{4} \\left. \\frac{d^{5}}{d x^{5}} f{\\left (x \\right )} \\right|_{\\substack{ x=0 }}}{30} + O\\left(h^{5}\\right)$$"
      ],
      "text/plain": [
       "   ⎛  5      ⎞│           \n",
       " 4 ⎜ d       ⎟│           \n",
       "h ⋅⎜───(f(x))⎟│           \n",
       "   ⎜  5      ⎟│           \n",
       "   ⎝dx       ⎠│x=0    ⎛ 5⎞\n",
       "────────────────── + O⎝h ⎠\n",
       "        30                "
      ]
     },
     "metadata": {},
     "output_type": "display_data"
    }
   ],
   "source": [
    "n = 6\n",
    "x0 = 0\n",
    "\n",
    "x, h = smp.symbols('x h')\n",
    "f = smp.Function('f')\n",
    "\n",
    "right = f(x+h).series(x+h, x0=x0, n=n)\n",
    "right -= f(x-h).series(x-h, x0=x0, n=n)\n",
    "right *= 3/h\n",
    "right = right.subs(x,x0).simplify()\n",
    "display(right)\n",
    "\n",
    "left = f(x+h).series(x+h, x0=x0, n=n).diff(x) + f(x-h).series(x-h, x0=x0, n=n).diff(x)\n",
    "left += 4*f(x).diff(x).subs(x,x0)\n",
    "left = left.subs(x,x0).simplify()\n",
    "display(left)\n",
    "\n",
    "err = (left - right).subs(x,0).simplify()\n",
    "display(err)"
   ]
  },
  {
   "cell_type": "code",
   "execution_count": 283,
   "metadata": {},
   "outputs": [
    {
     "name": "stdout",
     "output_type": "stream",
     "text": [
      "6 \\left. \\frac{d}{d x} f{\\left (x \\right )} \\right|_{\\substack{ x=0 }} + h^{2} \\left. \\frac{d^{3}}{d x^{3}} f{\\left (x \\right )} \\right|_{\\substack{ x=0 }} + \\frac{h^{4} \\left. \\frac{d^{5}}{d x^{5}} f{\\left (x \\right )} \\right|_{\\substack{ x=0 }}}{20} + O\\left(h^{5}\\right)\n",
      "6 \\left. \\frac{d}{d x} f{\\left (x \\right )} \\right|_{\\substack{ x=0 }} + h^{2} \\left. \\frac{d^{3}}{d x^{3}} f{\\left (x \\right )} \\right|_{\\substack{ x=0 }} + \\frac{h^{4} \\left. \\frac{d^{5}}{d x^{5}} f{\\left (x \\right )} \\right|_{\\substack{ x=0 }}}{12} + O\\left(h^{5}\\right)\n",
      "\\frac{h^{4} \\left. \\frac{d^{5}}{d x^{5}} f{\\left (x \\right )} \\right|_{\\substack{ x=0 }}}{30} + O\\left(h^{5}\\right)\n"
     ]
    }
   ],
   "source": [
    "print(smp.latex(right))\n",
    "print(smp.latex(left))\n",
    "print(smp.latex(err))"
   ]
  },
  {
   "cell_type": "code",
   "execution_count": 284,
   "metadata": {},
   "outputs": [
    {
     "data": {
      "text/latex": [
       "$$12 \\left. \\frac{d^{2}}{d x^{2}} f{\\left (x \\right )} \\right|_{\\substack{ x=0 }} + h^{2} \\left. \\frac{d^{4}}{d x^{4}} f{\\left (x \\right )} \\right|_{\\substack{ x=0 }} + \\frac{h^{4} \\left. \\frac{d^{6}}{d x^{6}} f{\\left (x \\right )} \\right|_{\\substack{ x=0 }}}{30} + O\\left(h^{5}\\right)$$"
      ],
      "text/plain": [
       "                                             ⎛  6      ⎞│           \n",
       "                                           4 ⎜ d       ⎟│           \n",
       "                                          h ⋅⎜───(f(x))⎟│           \n",
       "   ⎛  2      ⎞│         ⎛  4      ⎞│         ⎜  6      ⎟│           \n",
       "   ⎜ d       ⎟│       2 ⎜ d       ⎟│         ⎝dx       ⎠│x=0    ⎛ 5⎞\n",
       "12⋅⎜───(f(x))⎟│    + h ⋅⎜───(f(x))⎟│    + ────────────────── + O⎝h ⎠\n",
       "   ⎜  2      ⎟│         ⎜  4      ⎟│              30                \n",
       "   ⎝dx       ⎠│x=0      ⎝dx       ⎠│x=0                             "
      ]
     },
     "metadata": {},
     "output_type": "display_data"
    },
    {
     "data": {
      "text/latex": [
       "$$12 \\left. \\frac{d^{2}}{d x^{2}} f{\\left (x \\right )} \\right|_{\\substack{ x=0 }} + h^{2} \\left. \\frac{d^{4}}{d x^{4}} f{\\left (x \\right )} \\right|_{\\substack{ x=0 }} + \\frac{h^{4} \\left. \\frac{d^{6}}{d x^{6}} f{\\left (x \\right )} \\right|_{\\substack{ x=0 }}}{12} + O\\left(h^{5}\\right)$$"
      ],
      "text/plain": [
       "                                             ⎛  6      ⎞│           \n",
       "                                           4 ⎜ d       ⎟│           \n",
       "                                          h ⋅⎜───(f(x))⎟│           \n",
       "   ⎛  2      ⎞│         ⎛  4      ⎞│         ⎜  6      ⎟│           \n",
       "   ⎜ d       ⎟│       2 ⎜ d       ⎟│         ⎝dx       ⎠│x=0    ⎛ 5⎞\n",
       "12⋅⎜───(f(x))⎟│    + h ⋅⎜───(f(x))⎟│    + ────────────────── + O⎝h ⎠\n",
       "   ⎜  2      ⎟│         ⎜  4      ⎟│              12                \n",
       "   ⎝dx       ⎠│x=0      ⎝dx       ⎠│x=0                             "
      ]
     },
     "metadata": {},
     "output_type": "display_data"
    },
    {
     "data": {
      "text/latex": [
       "$$\\frac{h^{4} \\left. \\frac{d^{6}}{d x^{6}} f{\\left (x \\right )} \\right|_{\\substack{ x=0 }}}{20} + O\\left(h^{5}\\right)$$"
      ],
      "text/plain": [
       "   ⎛  6      ⎞│           \n",
       " 4 ⎜ d       ⎟│           \n",
       "h ⋅⎜───(f(x))⎟│           \n",
       "   ⎜  6      ⎟│           \n",
       "   ⎝dx       ⎠│x=0    ⎛ 5⎞\n",
       "────────────────── + O⎝h ⎠\n",
       "        20                "
      ]
     },
     "metadata": {},
     "output_type": "display_data"
    }
   ],
   "source": [
    "n = 7\n",
    "x0 = 0\n",
    "\n",
    "x, h = smp.symbols('x h')\n",
    "f = smp.Function('f')\n",
    "\n",
    "right = f(x+h).series(x+h, x0=x0, n=n)\n",
    "right += f(x-h).series(x-h, x0=x0, n=n)\n",
    "right += -2*f(x)\n",
    "right *= 12/(h**2)\n",
    "right = right.subs(x,x0).simplify()\n",
    "display(right)\n",
    "\n",
    "left = f(x+h).series(x+h, x0=x0, n=n).diff(x,2) \n",
    "left += f(x-h).series(x-h, x0=x0, n=n).diff(x,2)\n",
    "left += 10*f(x).diff(x,2)\n",
    "left = left.subs(x,x0).simplify()\n",
    "display(left)\n",
    "\n",
    "err = (left - right).subs(x,0).simplify()\n",
    "display(err)"
   ]
  },
  {
   "cell_type": "code",
   "execution_count": 285,
   "metadata": {},
   "outputs": [
    {
     "name": "stdout",
     "output_type": "stream",
     "text": [
      "12 \\left. \\frac{d^{2}}{d x^{2}} f{\\left (x \\right )} \\right|_{\\substack{ x=0 }} + h^{2} \\left. \\frac{d^{4}}{d x^{4}} f{\\left (x \\right )} \\right|_{\\substack{ x=0 }} + \\frac{h^{4} \\left. \\frac{d^{6}}{d x^{6}} f{\\left (x \\right )} \\right|_{\\substack{ x=0 }}}{30} + O\\left(h^{5}\\right)\n",
      "12 \\left. \\frac{d^{2}}{d x^{2}} f{\\left (x \\right )} \\right|_{\\substack{ x=0 }} + h^{2} \\left. \\frac{d^{4}}{d x^{4}} f{\\left (x \\right )} \\right|_{\\substack{ x=0 }} + \\frac{h^{4} \\left. \\frac{d^{6}}{d x^{6}} f{\\left (x \\right )} \\right|_{\\substack{ x=0 }}}{12} + O\\left(h^{5}\\right)\n",
      "\\frac{h^{4} \\left. \\frac{d^{6}}{d x^{6}} f{\\left (x \\right )} \\right|_{\\substack{ x=0 }}}{20} + O\\left(h^{5}\\right)\n"
     ]
    }
   ],
   "source": [
    "print(smp.latex(right))\n",
    "print(smp.latex(left))\n",
    "print(smp.latex(err))"
   ]
  },
  {
   "cell_type": "markdown",
   "metadata": {},
   "source": [
    "# 4 Increasing the FD Stencil Width"
   ]
  },
  {
   "cell_type": "code",
   "execution_count": 340,
   "metadata": {},
   "outputs": [],
   "source": [
    "x = smp.symbols('x')\n",
    "expr = smp.exp(-smp.cos(2*(x-.2)))\n",
    "foo = smp.lambdify(x, expr)\n",
    "dfoo = smp.lambdify(x, expr.diff(x))\n",
    "\n",
    "points = ['Equispaced', 'Chebyshev', 'Legendre']\n",
    "errs_0 = []\n",
    "errs_1 = []"
   ]
  },
  {
   "cell_type": "markdown",
   "metadata": {},
   "source": [
    "## Equispaced"
   ]
  },
  {
   "cell_type": "code",
   "execution_count": 341,
   "metadata": {},
   "outputs": [
    {
     "name": "stdout",
     "output_type": "stream",
     "text": [
      "\t\\begin{center}\n",
      "\t\t\\begin{tabular}{|c|c|c|}\n",
      "\t\t\t\\hline\n",
      "\t\t\t$x$&weights for $z=0.00$&weights for $z=-0.79$\\\\ \\hline\n",
      "\t\t\t-1&-0.00029138&0.097975\\\\ \\hline\n",
      "\t\t\t-0.85714&0.0047591&-6.2847\\\\ \\hline\n",
      "\t\t\t-0.71429&-0.037121&1.4593\\\\ \\hline\n",
      "\t\t\t-0.57143&0.18561&16.859\\\\ \\hline\n",
      "\t\t\t-0.42857&-0.68056&-34.022\\\\ \\hline\n",
      "\t\t\t-0.28571&2.0417&52.402\\\\ \\hline\n",
      "\t\t\t-0.14286&-6.125&-63.599\\\\ \\hline\n",
      "\t\t\t0&-1.1879e-14&60.934\\\\ \\hline\n",
      "\t\t\t0.14286&6.125&-45.866\\\\ \\hline\n",
      "\t\t\t0.28571&-2.0417&26.818\\\\ \\hline\n",
      "\t\t\t0.42857&0.68056&-11.939\\\\ \\hline\n",
      "\t\t\t0.57143&-0.18561&3.912\\\\ \\hline\n",
      "\t\t\t0.71429&0.037121&-0.88992\\\\ \\hline\n",
      "\t\t\t0.85714&-0.0047591&0.12559\\\\ \\hline\n",
      "\t\t\t1&0.00029138&-0.0082855\\\\ \\hline\n",
      "\t\t\\end{tabular}\n",
      "\t\\end{center}\n"
     ]
    },
    {
     "data": {
      "image/png": "[encoded data removed]",
      "text/plain": [
       "<Figure size 864x432 with 2 Axes>"
      ]
     },
     "metadata": {},
     "output_type": "display_data"
    }
   ],
   "source": [
    "xs = np.linspace(-1,1, 15)\n",
    "\n",
    "zs = [0,-1+3/14]\n",
    "ws = []\n",
    "\n",
    "matplotlib.rcParams.update({'font.size': 18})\n",
    "fig, axs = plt.subplots(2, sharex=True, figsize=(12,6))\n",
    "for ax, z in zip(axs, zs):\n",
    "    w = weights(z, xs, 1)[1]\n",
    "    ws.append(w)\n",
    "    ax.set_title('weights for $f^\\prime(%.3f)$'%z)\n",
    "    ax.plot(xs, w, 'ko')\n",
    "    \n",
    "errs_0.append(norm(np.dot(foo(xs), ws[0]) - dfoo(zs[0])))\n",
    "errs_1.append(norm(np.dot(foo(xs), ws[1]) - dfoo(zs[1])))\n",
    "    \n",
    "plt.xlabel('$x$')\n",
    "latex_table([xs, ws[0], ws[1]], ['$x$', 'weights for $z=%.2f$'%zs[0], 'weights for $z=%.2f$'%zs[1]] )"
   ]
  },
  {
   "cell_type": "markdown",
   "metadata": {},
   "source": [
    "## Chebyshev"
   ]
  },
  {
   "cell_type": "code",
   "execution_count": 342,
   "metadata": {},
   "outputs": [
    {
     "name": "stdout",
     "output_type": "stream",
     "text": [
      "\t\\begin{center}\n",
      "\t\t\\begin{tabular}{|c|c|c|}\n",
      "\t\t\t\\hline\n",
      "\t\t\t$x$&weights for $z=0.00$&weights for $z=-0.79$\\\\ \\hline\n",
      "\t\t\t-1&-0.5&-2.348\\\\ \\hline\n",
      "\t\t\t-0.97493&1.0257&5.3308\\\\ \\hline\n",
      "\t\t\t-0.90097&-1.1099&-8.8652\\\\ \\hline\n",
      "\t\t\t-0.78183&1.279&1.6842\\\\ \\hline\n",
      "\t\t\t-0.62349&-1.6039&5.945\\\\ \\hline\n",
      "\t\t\t-0.43388&2.3048&-2.7777\\\\ \\hline\n",
      "\t\t\t-0.22252&-4.494&1.7425\\\\ \\hline\n",
      "\t\t\t-6.1232e-17&-1.2212e-15&-1.2515\\\\ \\hline\n",
      "\t\t\t0.22252&4.494&0.97637\\\\ \\hline\n",
      "\t\t\t0.43388&-2.3048&-0.8077\\\\ \\hline\n",
      "\t\t\t0.62349&1.6039&0.69933\\\\ \\hline\n",
      "\t\t\t0.78183&-1.279&-0.62887\\\\ \\hline\n",
      "\t\t\t0.90097&1.1099&0.58455\\\\ \\hline\n",
      "\t\t\t0.97493&-1.0257&-0.56005\\\\ \\hline\n",
      "\t\t\t1&0.5&0.2761\\\\ \\hline\n",
      "\t\t\\end{tabular}\n",
      "\t\\end{center}\n"
     ]
    },
    {
     "data": {
      "image/png": "[encoded data removed]",
      "text/plain": [
       "<Figure size 864x432 with 2 Axes>"
      ]
     },
     "metadata": {},
     "output_type": "display_data"
    }
   ],
   "source": [
    "xs = -np.cos(np.linspace(0,np.pi, 15))\n",
    "\n",
    "zs = [0,-1+3/14]\n",
    "ws = []\n",
    "\n",
    "matplotlib.rcParams.update({'font.size': 18})\n",
    "fig, axs = plt.subplots(2, sharex=True, figsize=(12,6))\n",
    "for ax, z in zip(axs, zs):\n",
    "    w = weights(z, xs, 1)[1]\n",
    "    ws.append(w)\n",
    "    ax.set_title('weights for $f^\\prime(%.3f)$'%z)\n",
    "    ax.plot(xs, w, 'ko')\n",
    "\n",
    "errs_0.append(norm(np.dot(foo(xs), ws[0]) - dfoo(zs[0])))\n",
    "errs_1.append(norm(np.dot(foo(xs), ws[1]) - dfoo(zs[1])))\n",
    "    \n",
    "plt.xlabel('$x$')\n",
    "latex_table([xs, ws[0], ws[1]], ['$x$', 'weights for $z=%.2f$'%zs[0], 'weights for $z=%.2f$'%zs[1]] )"
   ]
  },
  {
   "cell_type": "markdown",
   "metadata": {},
   "source": [
    "## Legendre"
   ]
  },
  {
   "cell_type": "code",
   "execution_count": 343,
   "metadata": {},
   "outputs": [
    {
     "name": "stdout",
     "output_type": "stream",
     "text": [
      "\t\\begin{center}\n",
      "\t\t\\begin{tabular}{|c|c|c|}\n",
      "\t\t\t\\hline\n",
      "\t\t\t$x$&weights for $z=0.00$&weights for $z=-0.79$\\\\ \\hline\n",
      "\t\t\t-0.98799&-0.06093&-0.21617\\\\ \\hline\n",
      "\t\t\t-0.93727&0.2192&1.1672\\\\ \\hline\n",
      "\t\t\t-0.84821&-0.45417&-10.026\\\\ \\hline\n",
      "\t\t\t-0.72442&0.78988&9.3704\\\\ \\hline\n",
      "\t\t\t-0.57097&-1.3026&-0.19053\\\\ \\hline\n",
      "\t\t\t-0.39415&2.2352&-0.26132\\\\ \\hline\n",
      "\t\t\t-0.20119&-4.8186&0.30643\\\\ \\hline\n",
      "\t\t\t0&4.4949e-16&-0.28052\\\\ \\hline\n",
      "\t\t\t0.20119&4.8186&0.23726\\\\ \\hline\n",
      "\t\t\t0.39415&-2.2352&-0.19042\\\\ \\hline\n",
      "\t\t\t0.57097&1.3026&0.14473\\\\ \\hline\n",
      "\t\t\t0.72442&-0.78988&-0.10234\\\\ \\hline\n",
      "\t\t\t0.84821&0.45417&0.064645\\\\ \\hline\n",
      "\t\t\t0.93727&-0.2192&-0.033001\\\\ \\hline\n",
      "\t\t\t0.98799&0.06093&0.0094389\\\\ \\hline\n",
      "\t\t\\end{tabular}\n",
      "\t\\end{center}\n"
     ]
    },
    {
     "data": {
      "image/png": "[encoded data removed]",
      "text/plain": [
       "<Figure size 864x432 with 2 Axes>"
      ]
     },
     "metadata": {},
     "output_type": "display_data"
    }
   ],
   "source": [
    "xs = np.sort([-0.987992518020485,-0.394151347077563,0.570972172608539,-0.937273392400706,-0.201194093997435,\n",
    "      0.724417731360170,-0.848206583410427,0,0.848206583410427,-0.724417731360170,0.201194093997435,\n",
    "      0.937273392400706,-0.570972172608539,0.394151347077563,0.987992518020485])\n",
    "\n",
    "zs = [0,-1+3/14]\n",
    "ws = []\n",
    "\n",
    "matplotlib.rcParams.update({'font.size': 18})\n",
    "fig, axs = plt.subplots(2, sharex=True, figsize=(12,6))\n",
    "for ax, z in zip(axs, zs):\n",
    "    w = weights(z, xs, 1)[1]\n",
    "    ws.append(w)\n",
    "    ax.set_title('weights for $f^\\prime(%.3f)$'%z)\n",
    "    ax.plot(xs, w, 'ko')\n",
    "    \n",
    "errs_0.append(norm(np.dot(foo(xs), ws[0]) - dfoo(zs[0])))\n",
    "errs_1.append(norm(np.dot(foo(xs), ws[1]) - dfoo(zs[1])))\n",
    "\n",
    "plt.xlabel('$x$')\n",
    "latex_table([xs, ws[0], ws[1]], ['$x$', 'weights for $z=%.2f$'%zs[0], 'weights for $z=%.2f$'%zs[1]] )"
   ]
  },
  {
   "cell_type": "markdown",
   "metadata": {},
   "source": [
    "# 4(b)"
   ]
  },
  {
   "cell_type": "code",
   "execution_count": 347,
   "metadata": {},
   "outputs": [
    {
     "name": "stdout",
     "output_type": "stream",
     "text": [
      "\t\\begin{center}\n",
      "\t\t\\begin{tabular}{|c|c|c|}\n",
      "\t\t\t\\hline\n",
      "\t\t\tPoints&Error in $f^\\prime(0)$&Error in $f^\\prime(-\\tfrac{11}{14})$\\\\ \\hline\n",
      "\t\t\tEquispaced&1.622e-07&3.9239e-06\\\\ \\hline\n",
      "\t\t\tChebyshev&3.3263e-06&1.2269e-06\\\\ \\hline\n",
      "\t\t\tLegendre&1.817e-06&2.5066e-07\\\\ \\hline\n",
      "\t\t\\end{tabular}\n",
      "\t\\end{center}\n"
     ]
    }
   ],
   "source": [
    "latex_table([points, errs_0, errs_1], ['Points', 'Error in $f^\\prime(0)$', 'Error in $f^\\prime(-\\\\tfrac{11}{14})$'])"
   ]
  },
  {
   "cell_type": "code",
   "execution_count": null,
   "metadata": {},
   "outputs": [],
   "source": []
  },
  {
   "cell_type": "code",
   "execution_count": null,
   "metadata": {},
   "outputs": [],
   "source": []
  },
  {
   "cell_type": "markdown",
   "metadata": {},
   "source": [
    "# 5 Tigonometric Interpolation"
   ]
  },
  {
   "cell_type": "code",
   "execution_count": null,
   "metadata": {},
   "outputs": [],
   "source": []
  }
 ],
 "metadata": {
  "kernelspec": {
   "display_name": "Python 3",
   "language": "python",
   "name": "python3"
  },
  "language_info": {
   "codemirror_mode": {
    "name": "ipython",
    "version": 3
   },
   "file_extension": ".py",
   "mimetype": "text/x-python",
   "name": "python",
   "nbconvert_exporter": "python",
   "pygments_lexer": "ipython3",
   "version": "3.6.5"
  }
 },
 "nbformat": 4,
 "nbformat_minor": 2
}
